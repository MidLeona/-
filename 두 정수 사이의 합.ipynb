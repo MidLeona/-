{
  "cells": [
    {
      "cell_type": "code",
      "execution_count": 16,
      "metadata": {
        "colab": {
          "base_uri": "https://localhost:8080/"
        },
        "id": "lIYdn1woOS1n",
        "outputId": "64493997-a5c3-415f-cdd1-7b71a8215290"
      },
      "outputs": [
        {
          "output_type": "stream",
          "name": "stdout",
          "text": [
            "15\n",
            "-6\n",
            "10\n"
          ]
        }
      ],
      "source": [
        "def x(a, b):\n",
        "    sum = 0\n",
        "    if a < b:\n",
        "        sum = b\n",
        "        while a < b:\n",
        "            sum += a\n",
        "            a+=1\n",
        "        return sum\n",
        "    elif b < a:\n",
        "        sum = a\n",
        "        while b < a :\n",
        "            sum += b\n",
        "            b+=1\n",
        "        return sum\n",
        "    else :\n",
        "        sum = a\n",
        "        return sum\n",
        "print(x(6,4))\n",
        "print(x(-6,-6))\n",
        "print(x(1,4))"
      ]
    },
    {
      "cell_type": "code",
      "source": [
        "def solution(a,b):\n",
        "    sum = 0\n",
        "    if b < a:\n",
        "        a, b = b ,a\n",
        "    while b >= a:\n",
        "        sum += a\n",
        "        a +=1\n",
        "    return sum\n",
        "    if a == b:\n",
        "        return a\n",
        "\n",
        "print(solution(1,4))\n",
        "print(solution(3,3))\n",
        "print(solution(3,1))"
      ],
      "metadata": {
        "id": "VCpTBVQCgA66",
        "outputId": "19bc48ca-5985-402e-8614-009d603cee70",
        "colab": {
          "base_uri": "https://localhost:8080/"
        }
      },
      "execution_count": 17,
      "outputs": [
        {
          "output_type": "stream",
          "name": "stdout",
          "text": [
            "10\n",
            "3\n",
            "6\n"
          ]
        }
      ]
    }
  ],
  "metadata": {
    "colab": {
      "name": "scratchpad",
      "provenance": []
    },
    "kernelspec": {
      "display_name": "Python 3",
      "name": "python3"
    }
  },
  "nbformat": 4,
  "nbformat_minor": 0
}