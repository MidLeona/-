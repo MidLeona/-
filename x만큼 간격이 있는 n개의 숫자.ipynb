{
  "cells": [
    {
      "cell_type": "code",
      "execution_count": 26,
      "metadata": {
        "colab": {
          "base_uri": "https://localhost:8080/"
        },
        "id": "lIYdn1woOS1n",
        "outputId": "c9ca869e-1816-4880-c747-dea1fe4b092e"
      },
      "outputs": [
        {
          "output_type": "stream",
          "name": "stdout",
          "text": [
            "[2, 4, 6, 8, 10]\n",
            "[4, 8, 12]\n",
            "[-4, -8]\n"
          ]
        }
      ],
      "source": [
        "def solution(x, n):\n",
        "    answer = []\n",
        "    s = 0\n",
        "    for i in range(n):\n",
        "        s += x\n",
        "        answer.append(s)\n",
        "    return answer\n",
        "\n",
        "print(solution(2,5))\n",
        "print(solution(4,3))\n",
        "print(solution(-4,2))"
      ]
    }
  ],
  "metadata": {
    "colab": {
      "name": "scratchpad",
      "provenance": []
    },
    "kernelspec": {
      "display_name": "Python 3",
      "name": "python3"
    }
  },
  "nbformat": 4,
  "nbformat_minor": 0
}