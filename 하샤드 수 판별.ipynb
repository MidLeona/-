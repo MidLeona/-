{
  "cells": [
    {
      "cell_type": "code",
      "execution_count": null,
      "metadata": {
        "colab": {
          "base_uri": "https://localhost:8080/"
        },
        "id": "lIYdn1woOS1n",
        "outputId": "9a6d6869-96bd-4108-83a5-94a5a479752e"
      },
      "outputs": [
        {
          "output_type": "stream",
          "name": "stdout",
          "text": [
            "True\n",
            "False\n",
            "True\n"
          ]
        }
      ],
      "source": [
        "def solution(x):\n",
        "    sum = 0\n",
        "    for i in range(len(str(x))):\n",
        "        sum = sum + int(str(x)[i])\n",
        "    if x % sum == 0:\n",
        "        return True\n",
        "    else :\n",
        "        return False\n",
        "\n",
        "print(solution(18))\n",
        "print(solution(25))\n",
        "print(solution(40))"
      ]
    }
  ],
  "metadata": {
    "colab": {
      "provenance": []
    },
    "kernelspec": {
      "display_name": "Python 3",
      "name": "python3"
    }
  },
  "nbformat": 4,
  "nbformat_minor": 0
}